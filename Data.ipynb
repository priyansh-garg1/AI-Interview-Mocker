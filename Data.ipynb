{
  "nbformat": 4,
  "nbformat_minor": 0,
  "metadata": {
    "colab": {
      "provenance": [],
      "authorship_tag": "ABX9TyORG85hhoeyEktCTERcGVnj",
      "include_colab_link": true
    },
    "kernelspec": {
      "name": "python3",
      "display_name": "Python 3"
    },
    "language_info": {
      "name": "python"
    }
  },
  "cells": [
    {
      "cell_type": "markdown",
      "metadata": {
        "id": "view-in-github",
        "colab_type": "text"
      },
      "source": [
        "<a href=\"https://colab.research.google.com/github/priyansh-garg1/AI-Interview-Mocker/blob/main/Data.ipynb\" target=\"_parent\"><img src=\"https://colab.research.google.com/assets/colab-badge.svg\" alt=\"Open In Colab\"/></a>"
      ]
    },
    {
      "cell_type": "code",
      "source": [
        "#NUMPY\n",
        "\n",
        "import numpy as np\n",
        "# n = np.array(24)  #1D array\n",
        "# n = np.array((1,22,23,4,5,6,7,8,9,10))   #Tuple Array\n",
        "n = np.array([[10,11],[20,2],[33,3],[4,4]])   #List Array\n",
        "# n = np.array([[1,2,3],[4,5,6]])  #2D array\n",
        "# n = np.zeros([3,3])  #2D array with zeros\n",
        "# n = np.array(['1','2','a'],dtype='S5')\n",
        "# new = n.reshape(6,1)\n",
        "# print(n.ndim)  #Print dimension\n",
        "# for i in n:\n",
        "#   print(i)\n",
        "# m = np.array((11,12,13,14,15))\n",
        "# k = np.concatenate((n,m))  #Concatenated Array\n",
        "# arr = np.array_split(n,3) #Split array\n",
        "# print(new.min(axis=1)) #Min element\n",
        "new = np.sort(n)\n",
        "print(n)\n",
        "print(n.shape)\n",
        "print(type(n))"
      ],
      "metadata": {
        "id": "VHrmRzk0PwF7",
        "colab": {
          "base_uri": "https://localhost:8080/"
        },
        "outputId": "1121bdeb-877e-4ca5-f839-baee46a87773"
      },
      "execution_count": 134,
      "outputs": [
        {
          "output_type": "stream",
          "name": "stdout",
          "text": [
            "[[10 11]\n",
            " [20  2]\n",
            " [33  3]\n",
            " [ 4  4]]\n",
            "(4, 2)\n",
            "<class 'numpy.ndarray'>\n"
          ]
        }
      ]
    }
  ]
}